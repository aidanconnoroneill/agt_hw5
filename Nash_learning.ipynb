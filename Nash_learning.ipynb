{
 "cells": [
  {
   "cell_type": "code",
   "execution_count": 8,
   "metadata": {},
   "outputs": [],
   "source": [
    "import numpy as np\n",
    "games = np.load(\"games.npz\")\n",
    "prisoners_dilemma = games[\"prisoners_dilemma\"]\n",
    "penalty_kick = games[\"penalty_kick\"]\n",
    "chicken = games[\"chicken\"]\n",
    "bach_or_stravinsky = games[\"bach_or_stravinsky\"]\n",
    "rock_paper_scissors = games[\"rock_paper_scissors\"]\n",
    "five_by_five = games[\"five_by_five\"]\n",
    "two_by_three_by_four = games[\"two_by_three_by_four\"]\n",
    "four_players = games[\"four_players\"]"
   ]
  },
  {
   "cell_type": "code",
   "execution_count": 2,
   "metadata": {},
   "outputs": [
    {
     "data": {
      "text/plain": [
       "[array([0.5, 0.5]),\n",
       " array([0.33333333, 0.33333333, 0.33333333]),\n",
       " array([0.25, 0.25, 0.25, 0.25])]"
      ]
     },
     "execution_count": 2,
     "metadata": {},
     "output_type": "execute_result"
    }
   ],
   "source": [
    "def uniform_profile(game):\n",
    "    return [np.ones(s)/s for s in game.shape[1:]]\n",
    "\n",
    "uniform_profile(two_by_three_by_four)"
   ]
  },
  {
   "cell_type": "markdown",
   "metadata": {},
   "source": [
    "The fictitious_play function runs replicator dynamics for max_iters iterations and returns the resulting profile of average strategies. If trace=True, it should also return the sequence of max_iters+1 profiles generated along the way."
   ]
  },
  {
   "cell_type": "code",
   "execution_count": null,
   "metadata": {},
   "outputs": [],
   "source": [
    "def fictitious_play(game, prior_counts=None, max_iters=1000, trace=False):\n",
    "    if prior_counts == None:\n",
    "        prior_counts = [np.ones(s, dtype=int) for s in game.shape[1:]]\n",
    "    raise NotImplementedError(\"TODO\")\n",
    "\n",
    "fictitious_play(penalty_kick)"
   ]
  },
  {
   "cell_type": "markdown",
   "metadata": {},
   "source": [
    "The replicator_dynamics function runs replicator dynamics for max_iters iterations and returns the resulting profile. If trace=True, it should also return the sequence of max_iters+1 profiles generated along the way."
   ]
  },
  {
   "cell_type": "code",
   "execution_count": null,
   "metadata": {},
   "outputs": [],
   "source": [
    "def replicator_dynamics(game, initial_profile=None, max_iters=250, trace=False):\n",
    "    if initial_profile == None:\n",
    "        initial_profile = uniform_profile(game)\n",
    "    raise NotImplementedError(\"TODO\")\n",
    "    \n",
    "replicator_dynamics(penalty_kick)"
   ]
  },
  {
   "cell_type": "markdown",
   "metadata": {},
   "source": [
    "The RD_random_restarts function tries to find as many Nash equilibria as possible by running replicator dynamics many times. Each run begins from a different randomly-generated profile. The random_profile function should generate these profiles by sampling weights from a uniform distribution and normalizing them into probability distributions for each player's strategy.\n",
    "\n",
    "Only distinct Nash equilibria will be returned. This means that the profiles returned by replicator_dynamics must be checked to 1) confirm that they are Nash equilibria (you should use your regret function from hw1) and 2) that they are distinct (you should use np.allclose() with atol=min_dist on each player's strategy)."
   ]
  },
  {
   "cell_type": "code",
   "execution_count": null,
   "metadata": {},
   "outputs": [],
   "source": [
    "def random_profile(game):\n",
    "    raise NotImplementedError(\"TODO\")\n",
    "\n",
    "def RD_random_restarts(game, num_restarts=100, max_regret=0.01, min_dist=0.01, **rd_kwds):\n",
    "    raise NotImplementedError(\"TODO\")"
   ]
  },
  {
   "cell_type": "code",
   "execution_count": null,
   "metadata": {},
   "outputs": [],
   "source": [
    "def three_simplex_plot(sequence_of_mixtures):\n",
    "    raise NotImplementedError(\"Bryce will send this out soon.\")"
   ]
  },
  {
   "cell_type": "code",
   "execution_count": null,
   "metadata": {},
   "outputs": [],
   "source": []
  }
 ],
 "metadata": {
  "kernelspec": {
   "display_name": "Python 3",
   "language": "python",
   "name": "python3"
  },
  "language_info": {
   "codemirror_mode": {
    "name": "ipython",
    "version": 3
   },
   "file_extension": ".py",
   "mimetype": "text/x-python",
   "name": "python",
   "nbconvert_exporter": "python",
   "pygments_lexer": "ipython3",
   "version": "3.6.10"
  }
 },
 "nbformat": 4,
 "nbformat_minor": 4
}
